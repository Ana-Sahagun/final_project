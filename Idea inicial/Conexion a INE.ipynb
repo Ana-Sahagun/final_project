{
 "cells": [
  {
   "cell_type": "code",
   "execution_count": 1,
   "metadata": {},
   "outputs": [],
   "source": [
    "import requests\n",
    "import json\n",
    "import pandas as pd\n",
    "from opnieuw import retry\n",
    "from requests.exceptions import HTTPError, ConnectionError\n",
    "import time\n",
    "from tinydb import TinyDB, Query"
   ]
  },
  {
   "attachments": {},
   "cell_type": "markdown",
   "metadata": {},
   "source": [
    "#### Functions"
   ]
  },
  {
   "cell_type": "code",
   "execution_count": 2,
   "metadata": {},
   "outputs": [],
   "source": [
    "# Get all INE available operations\n",
    "@retry(\n",
    "    retry_on_exceptions=(ConnectionError, HTTPError),\n",
    "    max_calls_total=4,\n",
    "    retry_window_after_first_call_in_seconds=60,\n",
    ")\n",
    "def get_operaciones_disponibles():\n",
    "    url = \"https://servicios.ine.es/wstempus/js/ES/OPERACIONES_DISPONIBLES\"\n",
    "    payload = {}\n",
    "    headers = {}\n",
    "    response = requests.request(\"GET\", url, headers=headers, data=payload)\n",
    "    if response.status_code == 200:\n",
    "        return response.json()\n"
   ]
  },
  {
   "cell_type": "code",
   "execution_count": 3,
   "metadata": {},
   "outputs": [],
   "source": [
    "# Get data as series\n",
    "@retry(\n",
    "    retry_on_exceptions=(ConnectionError, HTTPError),\n",
    "    max_calls_total=4,\n",
    "    retry_window_after_first_call_in_seconds=60,\n",
    ")\n",
    "def get_datos(id_operacion, offset=1):\n",
    "    url = f\"https://servicios.ine.es/wstempus/js/ES/SERIES_OPERACION/{id_operacion}?page={offset}\"\n",
    "    payload = {}\n",
    "    headers = {}\n",
    "    response = requests.request(\"GET\", url, headers=headers, data=payload)\n",
    "    if response.status_code == 200:\n",
    "        return response.json()"
   ]
  },
  {
   "cell_type": "code",
   "execution_count": 10,
   "metadata": {},
   "outputs": [],
   "source": [
    "# Get data from a series\n",
    "@retry(\n",
    "    retry_on_exceptions=(ConnectionError, HTTPError),\n",
    "    max_calls_total=4,\n",
    "    retry_window_after_first_call_in_seconds=60,\n",
    ")\n",
    "def get_series(cod, nult=100):\n",
    "    url = f\"https://servicios.ine.es/wstempus/js/ES/DATOS_SERIE/{cod}?nult={nult}\"\n",
    "    payload = {}\n",
    "    headers = {}\n",
    "    response = requests.request(\"GET\", url, headers=headers, data=payload)\n",
    "    time.sleep(10)\n",
    "    if response.status_code == 200:\n",
    "        return response.json()\n"
   ]
  },
  {
   "cell_type": "code",
   "execution_count": 5,
   "metadata": {},
   "outputs": [],
   "source": [
    "def iterate_operacion(id_operacion):\n",
    "    responses = []\n",
    "    offset = 1\n",
    "    response = get_datos(id_operacion, offset)\n",
    "    responses += response\n",
    "    while True:\n",
    "        offset += 1\n",
    "        print(f'Iteracion en pagina {offset}')\n",
    "        response = get_datos(id_operacion, offset)\n",
    "        responses += response\n",
    "        if len(response)<500:\n",
    "            break\n",
    "    return responses"
   ]
  },
  {
   "attachments": {},
   "cell_type": "markdown",
   "metadata": {},
   "source": [
    "#### Main"
   ]
  },
  {
   "cell_type": "code",
   "execution_count": 6,
   "metadata": {},
   "outputs": [
    {
     "name": "stdout",
     "output_type": "stream",
     "text": [
      "Obteniendo datos de CNE2444. iteracion 1\n",
      "Obteniendo datos de CNE2444. iteracion 2\n",
      "Obteniendo datos de CNE2444. iteracion 3\n",
      "Obteniendo datos de CNE2444. iteracion 4\n",
      "Obteniendo datos de CNE2444. iteracion 5\n"
     ]
    }
   ],
   "source": [
    "codigos=[\"CNE2444\"]\n",
    "for codigo in codigos: \n",
    "    db=TinyDB(r\"C:\\Users\\anasa\\Desktop\\Ana\\IRONHACK\\Proyecto final/series.json\")\n",
    "    series_table=db.table(\"series\")\n",
    "    Serie=Query()\n",
    "    for i in range(0, 5):\n",
    "        try:\n",
    "            print(f'Obteniendo datos de {codigo}. iteracion {i+1}')\n",
    "            response=get_series(codigo)\n",
    "            if response:\n",
    "                if response.get('Data', []):\n",
    "                    series_table.upsert(response, Serie.codigo==response[\"COD\"])\n",
    "                    break\n",
    "        except:\n",
    "            continue"
   ]
  },
  {
   "cell_type": "code",
   "execution_count": 11,
   "metadata": {},
   "outputs": [
    {
     "data": {
      "text/plain": [
       "{'COD': 'CNE2444',\n",
       " 'Nombre': 'Total CNAE. Total Nacional. Valor añadido bruto. Precios corrientes. Variación anual. ',\n",
       " 'FK_Unidad': 7,\n",
       " 'FK_Escala': 13,\n",
       " 'Data': []}"
      ]
     },
     "execution_count": 11,
     "metadata": {},
     "output_type": "execute_result"
    }
   ],
   "source": [
    "get_series(codigo, 2)"
   ]
  },
  {
   "cell_type": "code",
   "execution_count": null,
   "metadata": {},
   "outputs": [],
   "source": []
  }
 ],
 "metadata": {
  "kernelspec": {
   "display_name": "venv",
   "language": "python",
   "name": "python3"
  },
  "language_info": {
   "codemirror_mode": {
    "name": "ipython",
    "version": 3
   },
   "file_extension": ".py",
   "mimetype": "text/x-python",
   "name": "python",
   "nbconvert_exporter": "python",
   "pygments_lexer": "ipython3",
   "version": "3.11.1"
  },
  "orig_nbformat": 4
 },
 "nbformat": 4,
 "nbformat_minor": 2
}
